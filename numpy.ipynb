{
 "cells": [
  {
   "cell_type": "code",
   "execution_count": 1,
   "id": "a5d9871f",
   "metadata": {},
   "outputs": [],
   "source": [
    "import  numpy"
   ]
  },
  {
   "cell_type": "code",
   "execution_count": 25,
   "id": "06f6514a",
   "metadata": {},
   "outputs": [],
   "source": [
    "arr=numpy.array([1,2,3,4,5])"
   ]
  },
  {
   "cell_type": "code",
   "execution_count": 24,
   "id": "3cf6493b",
   "metadata": {},
   "outputs": [
    {
     "name": "stdout",
     "output_type": "stream",
     "text": [
      "[array(['apple', 'eye', 'banana', 'kidney', 'stone'], dtype='<U6')]\n"
     ]
    }
   ],
   "source": [
    "print([arr])"
   ]
  },
  {
   "cell_type": "code",
   "execution_count": 4,
   "id": "fd912ee2",
   "metadata": {},
   "outputs": [
    {
     "name": "stdout",
     "output_type": "stream",
     "text": [
      "[1 2 3 4]\n"
     ]
    }
   ],
   "source": [
    "import numpy as np\n",
    "arr=np.array([1,2,3,4])\n",
    "print(arr)"
   ]
  },
  {
   "cell_type": "code",
   "execution_count": null,
   "id": "ccf06d7e",
   "metadata": {},
   "outputs": [],
   "source": []
  },
  {
   "cell_type": "code",
   "execution_count": 6,
   "id": "8517df12",
   "metadata": {},
   "outputs": [
    {
     "name": "stdout",
     "output_type": "stream",
     "text": [
      "[[1 2 3]\n",
      " [4 5 6]]\n",
      "[[1 2 3]\n",
      " [4 5 6]]\n",
      "[[1 2 3]\n",
      " [4 5 6]]\n"
     ]
    }
   ],
   "source": [
    "arr=np.array([[1,2,3],[4,5,6]])\n",
    "print(arr)\n",
    "print(arr)\n",
    "print(arr)\n",
    "\n",
    "\n",
    "\n"
   ]
  },
  {
   "cell_type": "code",
   "execution_count": 8,
   "id": "3e25a894",
   "metadata": {},
   "outputs": [
    {
     "name": "stdout",
     "output_type": "stream",
     "text": [
      "3\n"
     ]
    }
   ],
   "source": [
    "arr=np.array([1,2,3,4])\n",
    "print(arr[2])"
   ]
  },
  {
   "cell_type": "code",
   "execution_count": 9,
   "id": "889678e4",
   "metadata": {},
   "outputs": [
    {
     "name": "stdout",
     "output_type": "stream",
     "text": [
      "7\n"
     ]
    }
   ],
   "source": [
    "print(arr[2]+arr[3])"
   ]
  },
  {
   "cell_type": "code",
   "execution_count": 10,
   "id": "36b5a438",
   "metadata": {},
   "outputs": [
    {
     "name": "stdout",
     "output_type": "stream",
     "text": [
      "17\n"
     ]
    }
   ],
   "source": [
    "arr=np.array([5,12,18,25])\n",
    "print(arr[0]+arr[1])"
   ]
  },
  {
   "cell_type": "code",
   "execution_count": 21,
   "id": "8b1fadc4",
   "metadata": {},
   "outputs": [
    {
     "name": "stdout",
     "output_type": "stream",
     "text": [
      "['apple']\n"
     ]
    }
   ],
   "source": [
    "print(arr[0:1])"
   ]
  },
  {
   "cell_type": "code",
   "execution_count": 13,
   "id": "aabfc582",
   "metadata": {},
   "outputs": [
    {
     "name": "stdout",
     "output_type": "stream",
     "text": [
      "[12 18]\n"
     ]
    }
   ],
   "source": [
    "print(arr[1:3])"
   ]
  },
  {
   "cell_type": "code",
   "execution_count": 14,
   "id": "a85bbacc",
   "metadata": {},
   "outputs": [
    {
     "name": "stdout",
     "output_type": "stream",
     "text": [
      "[ 5 12 18 25]\n"
     ]
    }
   ],
   "source": [
    "print(arr[0:])"
   ]
  },
  {
   "cell_type": "code",
   "execution_count": 17,
   "id": "382176c7",
   "metadata": {},
   "outputs": [
    {
     "name": "stdout",
     "output_type": "stream",
     "text": [
      "[8 5 4 2]\n"
     ]
    }
   ],
   "source": [
    "arr=np.array([1,8,9,7,5,6,7,4,2,8,2])\n",
    "print(arr[1::3])"
   ]
  },
  {
   "cell_type": "code",
   "execution_count": 18,
   "id": "e07e737c",
   "metadata": {},
   "outputs": [
    {
     "name": "stdout",
     "output_type": "stream",
     "text": [
      "int32\n"
     ]
    }
   ],
   "source": [
    "print(arr.dtype)"
   ]
  },
  {
   "cell_type": "code",
   "execution_count": 20,
   "id": "c1871aa2",
   "metadata": {},
   "outputs": [
    {
     "name": "stdout",
     "output_type": "stream",
     "text": [
      "<U6\n"
     ]
    }
   ],
   "source": [
    "arr=np.array(['apple','eye','banana','kidney','stone'])\n",
    "print(arr.dtype)"
   ]
  },
  {
   "cell_type": "code",
   "execution_count": 26,
   "id": "3c084610",
   "metadata": {},
   "outputs": [
    {
     "name": "stdout",
     "output_type": "stream",
     "text": [
      "[42  2  3  4  5]\n"
     ]
    }
   ],
   "source": [
    "arr[0]=42\n",
    "print(arr)"
   ]
  },
  {
   "cell_type": "code",
   "execution_count": null,
   "id": "088a2808",
   "metadata": {},
   "outputs": [],
   "source": []
  },
  {
   "cell_type": "code",
   "execution_count": 39,
   "id": "aa80ec01",
   "metadata": {},
   "outputs": [
    {
     "name": "stdout",
     "output_type": "stream",
     "text": [
      "[[[ 5  6]\n",
      "  [ 7  9]\n",
      "  [ 6  7]]\n",
      "\n",
      " [[ 5  6]\n",
      "  [ 8  5]\n",
      "  [ 8 71]]]\n"
     ]
    }
   ],
   "source": [
    "arr=np.array([5,6,7,9,6,7,5,6,8,5,8,71])\n",
    "new_arr=arr.reshape(2,3,2)\n",
    "print(new_arr)\n"
   ]
  },
  {
   "cell_type": "code",
   "execution_count": null,
   "id": "c521f142",
   "metadata": {},
   "outputs": [],
   "source": []
  }
 ],
 "metadata": {
  "kernelspec": {
   "display_name": "Python 3 (ipykernel)",
   "language": "python",
   "name": "python3"
  },
  "language_info": {
   "codemirror_mode": {
    "name": "ipython",
    "version": 3
   },
   "file_extension": ".py",
   "mimetype": "text/x-python",
   "name": "python",
   "nbconvert_exporter": "python",
   "pygments_lexer": "ipython3",
   "version": "3.9.12"
  }
 },
 "nbformat": 4,
 "nbformat_minor": 5
}
