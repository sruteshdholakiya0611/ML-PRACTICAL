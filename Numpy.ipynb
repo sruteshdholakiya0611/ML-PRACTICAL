{
 "cells": [
  {
   "cell_type": "code",
   "execution_count": 1,
   "id": "0c51300b",
   "metadata": {},
   "outputs": [],
   "source": [
    "import numpy as np"
   ]
  },
  {
   "cell_type": "code",
   "execution_count": 3,
   "id": "bfa2c097",
   "metadata": {},
   "outputs": [
    {
     "name": "stdout",
     "output_type": "stream",
     "text": [
      "[1 2 3 4 5]\n"
     ]
    }
   ],
   "source": [
    "array = np.array([1, 2, 3, 4, 5])\n",
    "print(array)"
   ]
  },
  {
   "cell_type": "code",
   "execution_count": 4,
   "id": "d0cd9620",
   "metadata": {},
   "outputs": [
    {
     "name": "stdout",
     "output_type": "stream",
     "text": [
      "[[1 2 3]\n",
      " [4 5 6]\n",
      " [7 8 9]]\n"
     ]
    }
   ],
   "source": [
    "multi_array = np.array([[1, 2, 3,], [4, 5, 6], [7, 8, 9]])\n",
    "print(multi_array)"
   ]
  },
  {
   "cell_type": "code",
   "execution_count": 5,
   "id": "36f8f228",
   "metadata": {},
   "outputs": [
    {
     "name": "stdout",
     "output_type": "stream",
     "text": [
      "1\n"
     ]
    }
   ],
   "source": [
    "print(array[0])"
   ]
  },
  {
   "cell_type": "code",
   "execution_count": 8,
   "id": "2c5a2a3d",
   "metadata": {},
   "outputs": [
    {
     "name": "stdout",
     "output_type": "stream",
     "text": [
      "[0. 0. 0. 0. 0.] [1. 1. 1. 1. 1.]\n"
     ]
    }
   ],
   "source": [
    "zero = np.zeros(5)\n",
    "one = np.ones(5)\n",
    "print(zero, one)"
   ]
  },
  {
   "cell_type": "code",
   "execution_count": 9,
   "id": "c057de51",
   "metadata": {},
   "outputs": [
    {
     "data": {
      "text/plain": [
       "array([1., 1., 1., 1., 1.])"
      ]
     },
     "execution_count": 9,
     "metadata": {},
     "output_type": "execute_result"
    }
   ],
   "source": [
    "np.empty(5)"
   ]
  },
  {
   "cell_type": "code",
   "execution_count": 13,
   "id": "ba3554b6",
   "metadata": {},
   "outputs": [
    {
     "data": {
      "text/plain": [
       "array([0, 1, 2, 3, 4])"
      ]
     },
     "execution_count": 13,
     "metadata": {},
     "output_type": "execute_result"
    }
   ],
   "source": [
    "np.arange(5)"
   ]
  },
  {
   "cell_type": "code",
   "execution_count": 14,
   "id": "5868cd82",
   "metadata": {},
   "outputs": [
    {
     "data": {
      "text/plain": [
       "array([1, 3, 5, 7, 9])"
      ]
     },
     "execution_count": 14,
     "metadata": {},
     "output_type": "execute_result"
    }
   ],
   "source": [
    "np.arange(1, 10, 2)"
   ]
  },
  {
   "cell_type": "code",
   "execution_count": 17,
   "id": "0ed5f1c6",
   "metadata": {},
   "outputs": [
    {
     "data": {
      "text/plain": [
       "array([  0.        ,  11.11111111,  22.22222222,  33.33333333,\n",
       "        44.44444444,  55.55555556,  66.66666667,  77.77777778,\n",
       "        88.88888889, 100.        ])"
      ]
     },
     "execution_count": 17,
     "metadata": {},
     "output_type": "execute_result"
    }
   ],
   "source": [
    "np.linspace(0, 100, num=10)"
   ]
  },
  {
   "cell_type": "code",
   "execution_count": 21,
   "id": "1ebb5b75",
   "metadata": {},
   "outputs": [
    {
     "name": "stdout",
     "output_type": "stream",
     "text": [
      "[1 1 1 1 1] [1. 1. 1. 1. 1.]\n"
     ]
    }
   ],
   "source": [
    "x = np.ones(5, dtype=np.int64)\n",
    "y = np.ones(5, dtype=np.float64)\n",
    "print(x, y)"
   ]
  },
  {
   "cell_type": "code",
   "execution_count": 26,
   "id": "eac01d38",
   "metadata": {},
   "outputs": [
    {
     "name": "stdout",
     "output_type": "stream",
     "text": [
      "[ 2 10  1  5  4  6  3  7  9  8]\n"
     ]
    }
   ],
   "source": [
    "array2 = np.array([2, 10, 1, 5, 4, 6, 3, 7, 9, 8])\n",
    "print(array2)"
   ]
  },
  {
   "cell_type": "code",
   "execution_count": 27,
   "id": "dca2640e",
   "metadata": {},
   "outputs": [
    {
     "data": {
      "text/plain": [
       "array([ 1,  2,  3,  4,  5,  6,  7,  8,  9, 10])"
      ]
     },
     "execution_count": 27,
     "metadata": {},
     "output_type": "execute_result"
    }
   ],
   "source": [
    "np.sort(array2)"
   ]
  },
  {
   "cell_type": "code",
   "execution_count": 38,
   "id": "c75b02dc",
   "metadata": {},
   "outputs": [
    {
     "name": "stdout",
     "output_type": "stream",
     "text": [
      "[ 3  2 10  1  5  4  6  3  7  9  8] [ 2 10  1  5  4  6  3  7  9  8  3]\n"
     ]
    }
   ],
   "source": [
    "back = np.append(array2, 3)\n",
    "front = np.append(3, array2)\n",
    "print(front, back)"
   ]
  },
  {
   "cell_type": "code",
   "execution_count": 33,
   "id": "1dc7a99f",
   "metadata": {},
   "outputs": [
    {
     "data": {
      "text/plain": [
       "array([ 2, 10,  5,  4,  6,  3,  7,  9,  8])"
      ]
     },
     "execution_count": 33,
     "metadata": {},
     "output_type": "execute_result"
    }
   ],
   "source": [
    "np.delete(array2, [2])"
   ]
  },
  {
   "cell_type": "code",
   "execution_count": 35,
   "id": "824a5a53",
   "metadata": {},
   "outputs": [
    {
     "data": {
      "text/plain": [
       "array([ 1,  2,  3,  4,  5,  6,  7,  8,  9, 10])"
      ]
     },
     "execution_count": 35,
     "metadata": {},
     "output_type": "execute_result"
    }
   ],
   "source": [
    "arr1 = np.array([1, 2, 3, 4, 5])\n",
    "arr2 = np.array([6, 7, 8, 9, 10])\n",
    "np.concatenate((arr1, arr2))"
   ]
  },
  {
   "cell_type": "code",
   "execution_count": 42,
   "id": "053aaece",
   "metadata": {},
   "outputs": [
    {
     "data": {
      "text/plain": [
       "array([[1, 2, 3],\n",
       "       [4, 5, 6],\n",
       "       [7, 8, 9]])"
      ]
     },
     "execution_count": 42,
     "metadata": {},
     "output_type": "execute_result"
    }
   ],
   "source": [
    "p = np.array([[1, 2, 3], [4, 5, 6]])\n",
    "q = np.array([[7, 8, 9]])\n",
    "np.concatenate((p, q), axis=0)"
   ]
  },
  {
   "cell_type": "code",
   "execution_count": 43,
   "id": "77bd5f46",
   "metadata": {},
   "outputs": [],
   "source": [
    "shape = np.array([\n",
    "    [[1, 2, 3],\n",
    "    [4, 5, 6]],\n",
    "    \n",
    "    [[7, 8, 9],\n",
    "    [10, 11, 12]],\n",
    "    \n",
    "    [[13, 14, 15],\n",
    "    [16, 17, 18]]\n",
    "])"
   ]
  },
  {
   "cell_type": "code",
   "execution_count": 44,
   "id": "29f06ef8",
   "metadata": {},
   "outputs": [
    {
     "data": {
      "text/plain": [
       "3"
      ]
     },
     "execution_count": 44,
     "metadata": {},
     "output_type": "execute_result"
    }
   ],
   "source": [
    "shape.ndim"
   ]
  },
  {
   "cell_type": "code",
   "execution_count": 45,
   "id": "ff6e3db6",
   "metadata": {},
   "outputs": [
    {
     "data": {
      "text/plain": [
       "18"
      ]
     },
     "execution_count": 45,
     "metadata": {},
     "output_type": "execute_result"
    }
   ],
   "source": [
    "shape.size"
   ]
  },
  {
   "cell_type": "code",
   "execution_count": 46,
   "id": "a9dbba71",
   "metadata": {},
   "outputs": [
    {
     "data": {
      "text/plain": [
       "(3, 2, 3)"
      ]
     },
     "execution_count": 46,
     "metadata": {},
     "output_type": "execute_result"
    }
   ],
   "source": [
    "shape.shape"
   ]
  },
  {
   "cell_type": "code",
   "execution_count": 51,
   "id": "5c57728c",
   "metadata": {},
   "outputs": [
    {
     "name": "stdout",
     "output_type": "stream",
     "text": [
      "[0 1 2 3 4 5 6 7 8 9]\n"
     ]
    }
   ],
   "source": [
    "random = np.arange(10)\n",
    "print(random)"
   ]
  },
  {
   "cell_type": "code",
   "execution_count": 58,
   "id": "d7c4c623",
   "metadata": {},
   "outputs": [
    {
     "name": "stdout",
     "output_type": "stream",
     "text": [
      "[[0 1]\n",
      " [2 3]\n",
      " [4 5]\n",
      " [6 7]\n",
      " [8 9]]\n"
     ]
    }
   ],
   "source": [
    "# reshape(row, column) where row and column must be multiply of size of the array that is getting reshaped\n",
    "reshape = random.reshape(5, 2)\n",
    "print(reshape)"
   ]
  },
  {
   "cell_type": "code",
   "execution_count": 60,
   "id": "037d321e",
   "metadata": {},
   "outputs": [
    {
     "data": {
      "text/plain": [
       "array([[0, 1, 2, 3, 4],\n",
       "       [5, 6, 7, 8, 9]])"
      ]
     },
     "execution_count": 60,
     "metadata": {},
     "output_type": "execute_result"
    }
   ],
   "source": [
    "np.reshape(random, newshape=(2, 5), order='C') # order parameter is optional "
   ]
  },
  {
   "cell_type": "code",
   "execution_count": 62,
   "id": "4cc13eb2",
   "metadata": {},
   "outputs": [
    {
     "data": {
      "text/plain": [
       "(10,)"
      ]
     },
     "execution_count": 62,
     "metadata": {},
     "output_type": "execute_result"
    }
   ],
   "source": [
    "single = np.array([1, 2, 3, 4, 5, 6, 7, 8, 9, 10])\n",
    "single.shape"
   ]
  },
  {
   "cell_type": "code",
   "execution_count": 65,
   "id": "a2496545",
   "metadata": {},
   "outputs": [
    {
     "name": "stdout",
     "output_type": "stream",
     "text": [
      "(1, 10) (10, 1)\n"
     ]
    }
   ],
   "source": [
    "row_vector = single[np.newaxis, :]\n",
    "column_vector = single[:, np.newaxis]\n",
    "print(row_vector.shape, \n",
    "column_vector.shape)"
   ]
  },
  {
   "cell_type": "code",
   "execution_count": 66,
   "id": "ffe0d972",
   "metadata": {},
   "outputs": [],
   "source": [
    "data = np.array([100, 99, 98, 97, 96, 95, 94, 93, 92, 91, 90])"
   ]
  },
  {
   "cell_type": "code",
   "execution_count": 67,
   "id": "50551ca4",
   "metadata": {},
   "outputs": [
    {
     "data": {
      "text/plain": [
       "95"
      ]
     },
     "execution_count": 67,
     "metadata": {},
     "output_type": "execute_result"
    }
   ],
   "source": [
    "data[5]"
   ]
  },
  {
   "cell_type": "code",
   "execution_count": 68,
   "id": "40a57f65",
   "metadata": {},
   "outputs": [
    {
     "data": {
      "text/plain": [
       "array([100,  99])"
      ]
     },
     "execution_count": 68,
     "metadata": {},
     "output_type": "execute_result"
    }
   ],
   "source": [
    "data[0:2]"
   ]
  },
  {
   "cell_type": "code",
   "execution_count": 69,
   "id": "84eba211",
   "metadata": {},
   "outputs": [
    {
     "data": {
      "text/plain": [
       "array([93, 92, 91, 90])"
      ]
     },
     "execution_count": 69,
     "metadata": {},
     "output_type": "execute_result"
    }
   ],
   "source": [
    "data[7:]"
   ]
  },
  {
   "cell_type": "code",
   "execution_count": 70,
   "id": "f9b227ed",
   "metadata": {},
   "outputs": [
    {
     "data": {
      "text/plain": [
       "array([100,  99,  98,  97,  96,  95,  94,  93,  92])"
      ]
     },
     "execution_count": 70,
     "metadata": {},
     "output_type": "execute_result"
    }
   ],
   "source": [
    "data[:9]"
   ]
  },
  {
   "cell_type": "code",
   "execution_count": 71,
   "id": "f940d7ff",
   "metadata": {},
   "outputs": [
    {
     "data": {
      "text/plain": [
       "array([], dtype=int32)"
      ]
     },
     "execution_count": 71,
     "metadata": {},
     "output_type": "execute_result"
    }
   ],
   "source": [
    "data[-4:-9]"
   ]
  },
  {
   "cell_type": "code",
   "execution_count": 72,
   "id": "7bad3446",
   "metadata": {},
   "outputs": [
    {
     "data": {
      "text/plain": [
       "array([93, 92, 91])"
      ]
     },
     "execution_count": 72,
     "metadata": {},
     "output_type": "execute_result"
    }
   ],
   "source": [
    "data[-4:-1]"
   ]
  },
  {
   "cell_type": "code",
   "execution_count": 73,
   "id": "faf0bf9a",
   "metadata": {},
   "outputs": [],
   "source": [
    "new = np.array([[1 , 2, 3, 4], [5, 6, 7, 8], [9, 10, 11, 12]])"
   ]
  },
  {
   "cell_type": "code",
   "execution_count": 77,
   "id": "5085988e",
   "metadata": {},
   "outputs": [
    {
     "name": "stdout",
     "output_type": "stream",
     "text": [
      "[1 2 3 4 5 6]\n"
     ]
    }
   ],
   "source": [
    "print(new[new <= 6])"
   ]
  },
  {
   "cell_type": "code",
   "execution_count": 78,
   "id": "4a7a941a",
   "metadata": {},
   "outputs": [
    {
     "name": "stdout",
     "output_type": "stream",
     "text": [
      "[ 2  4  6  8 10 12]\n"
     ]
    }
   ],
   "source": [
    "con = new[new % 2 == 0]\n",
    "print(con)"
   ]
  },
  {
   "cell_type": "code",
   "execution_count": 80,
   "id": "df57ab86",
   "metadata": {},
   "outputs": [
    {
     "data": {
      "text/plain": [
       "(array([0, 0, 0, 0, 1, 1, 1, 1, 2], dtype=int64),\n",
       " array([0, 1, 2, 3, 0, 1, 2, 3, 0], dtype=int64))"
      ]
     },
     "execution_count": 80,
     "metadata": {},
     "output_type": "execute_result"
    }
   ],
   "source": [
    "no = np.nonzero(new <10)\n",
    "no"
   ]
  },
  {
   "cell_type": "code",
   "execution_count": 81,
   "id": "f461b3b9",
   "metadata": {},
   "outputs": [
    {
     "data": {
      "text/plain": [
       "array([[[100, 100, 100],\n",
       "        [100, 100, 100]],\n",
       "\n",
       "       [[100, 100, 100],\n",
       "        [100, 100, 100]]])"
      ]
     },
     "execution_count": 81,
     "metadata": {},
     "output_type": "execute_result"
    }
   ],
   "source": [
    "data1 = np.array([\n",
    "    [[1, 2, 3], [4, 5, 6]],\n",
    "    [[7, 8, 9], [10, 11, 12]]\n",
    "])\n",
    "data2 = np.array([\n",
    "    [[99, 98, 97], [96, 95,94]],\n",
    "    [[93, 92, 91], [90, 89, 88]]\n",
    "])\n",
    "data1 + data2"
   ]
  },
  {
   "cell_type": "code",
   "execution_count": 82,
   "id": "7282bd4b",
   "metadata": {},
   "outputs": [
    {
     "data": {
      "text/plain": [
       "array([[[98, 96, 94],\n",
       "        [92, 90, 88]],\n",
       "\n",
       "       [[86, 84, 82],\n",
       "        [80, 78, 76]]])"
      ]
     },
     "execution_count": 82,
     "metadata": {},
     "output_type": "execute_result"
    }
   ],
   "source": [
    "data2 - data1"
   ]
  },
  {
   "cell_type": "code",
   "execution_count": 83,
   "id": "65b6259d",
   "metadata": {},
   "outputs": [
    {
     "data": {
      "text/plain": [
       "array([[[-98, -96, -94],\n",
       "        [-92, -90, -88]],\n",
       "\n",
       "       [[-86, -84, -82],\n",
       "        [-80, -78, -76]]])"
      ]
     },
     "execution_count": 83,
     "metadata": {},
     "output_type": "execute_result"
    }
   ],
   "source": [
    "data1 - data2"
   ]
  },
  {
   "cell_type": "code",
   "execution_count": 84,
   "id": "b30b8efe",
   "metadata": {},
   "outputs": [
    {
     "data": {
      "text/plain": [
       "array([[[  99,  196,  291],\n",
       "        [ 384,  475,  564]],\n",
       "\n",
       "       [[ 651,  736,  819],\n",
       "        [ 900,  979, 1056]]])"
      ]
     },
     "execution_count": 84,
     "metadata": {},
     "output_type": "execute_result"
    }
   ],
   "source": [
    "data1 * data2"
   ]
  },
  {
   "cell_type": "code",
   "execution_count": 93,
   "id": "2262041b",
   "metadata": {},
   "outputs": [
    {
     "data": {
      "text/plain": [
       "array([[[99.        , 49.        , 32.33333333],\n",
       "        [24.        , 19.        , 15.66666667]],\n",
       "\n",
       "       [[13.28571429, 11.5       , 10.11111111],\n",
       "        [ 9.        ,  8.09090909,  7.33333333]]])"
      ]
     },
     "execution_count": 93,
     "metadata": {},
     "output_type": "execute_result"
    }
   ],
   "source": [
    "data2 / data1"
   ]
  },
  {
   "cell_type": "code",
   "execution_count": 92,
   "id": "96b7d3d0",
   "metadata": {},
   "outputs": [
    {
     "data": {
      "text/plain": [
       "1"
      ]
     },
     "execution_count": 92,
     "metadata": {},
     "output_type": "execute_result"
    }
   ],
   "source": [
    "data1.min()"
   ]
  },
  {
   "cell_type": "code",
   "execution_count": 91,
   "id": "1fcb9b14",
   "metadata": {},
   "outputs": [
    {
     "data": {
      "text/plain": [
       "99"
      ]
     },
     "execution_count": 91,
     "metadata": {},
     "output_type": "execute_result"
    }
   ],
   "source": [
    "data2.max()"
   ]
  },
  {
   "cell_type": "code",
   "execution_count": 90,
   "id": "f630ef19",
   "metadata": {},
   "outputs": [
    {
     "data": {
      "text/plain": [
       "78"
      ]
     },
     "execution_count": 90,
     "metadata": {},
     "output_type": "execute_result"
    }
   ],
   "source": [
    "data1.sum()"
   ]
  },
  {
   "cell_type": "code",
   "execution_count": 95,
   "id": "fa1138ca",
   "metadata": {},
   "outputs": [
    {
     "data": {
      "text/plain": [
       "93.5"
      ]
     },
     "execution_count": 95,
     "metadata": {},
     "output_type": "execute_result"
    }
   ],
   "source": [
    "np.average(data2)"
   ]
  },
  {
   "cell_type": "code",
   "execution_count": 96,
   "id": "7a7d3502",
   "metadata": {},
   "outputs": [
    {
     "data": {
      "text/plain": [
       "3.452052529534663"
      ]
     },
     "execution_count": 96,
     "metadata": {},
     "output_type": "execute_result"
    }
   ],
   "source": [
    "np.std(data1)"
   ]
  },
  {
   "cell_type": "code",
   "execution_count": 97,
   "id": "7e540b71",
   "metadata": {},
   "outputs": [
    {
     "data": {
      "text/plain": [
       "-1778720768"
      ]
     },
     "execution_count": 97,
     "metadata": {},
     "output_type": "execute_result"
    }
   ],
   "source": [
    "np.product(data2)"
   ]
  },
  {
   "cell_type": "code",
   "execution_count": 98,
   "id": "0e73d56e",
   "metadata": {},
   "outputs": [
    {
     "data": {
      "text/plain": [
       "array([ 1,  2,  3,  4,  5,  6,  7,  8,  9, 10, 11, 12])"
      ]
     },
     "execution_count": 98,
     "metadata": {},
     "output_type": "execute_result"
    }
   ],
   "source": [
    "np.unique(data1)"
   ]
  },
  {
   "cell_type": "code",
   "execution_count": 99,
   "id": "6cb7258e",
   "metadata": {},
   "outputs": [
    {
     "data": {
      "text/plain": [
       "array([[[99, 93],\n",
       "        [96, 90]],\n",
       "\n",
       "       [[98, 92],\n",
       "        [95, 89]],\n",
       "\n",
       "       [[97, 91],\n",
       "        [94, 88]]])"
      ]
     },
     "execution_count": 99,
     "metadata": {},
     "output_type": "execute_result"
    }
   ],
   "source": [
    "data2.T"
   ]
  },
  {
   "cell_type": "code",
   "execution_count": 104,
   "id": "993350bc",
   "metadata": {},
   "outputs": [
    {
     "data": {
      "text/plain": [
       "array([ 1,  2,  3,  4,  5,  6,  7,  8,  9, 10, 11, 12])"
      ]
     },
     "execution_count": 104,
     "metadata": {},
     "output_type": "execute_result"
    }
   ],
   "source": [
    "data1.ravel()"
   ]
  }
 ],
 "metadata": {
  "kernelspec": {
   "display_name": "Python 3 (ipykernel)",
   "language": "python",
   "name": "python3"
  },
  "language_info": {
   "codemirror_mode": {
    "name": "ipython",
    "version": 3
   },
   "file_extension": ".py",
   "mimetype": "text/x-python",
   "name": "python",
   "nbconvert_exporter": "python",
   "pygments_lexer": "ipython3",
   "version": "3.9.12"
  }
 },
 "nbformat": 4,
 "nbformat_minor": 5
}
